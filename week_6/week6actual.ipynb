{
 "cells": [
  {
   "cell_type": "code",
   "execution_count": 1,
   "id": "b2d6c357",
   "metadata": {},
   "outputs": [
    {
     "name": "stdout",
     "output_type": "stream",
     "text": [
      "hello world\n"
     ]
    }
   ],
   "source": [
    "print(\"hello world\")\n"
   ]
  },
  {
   "cell_type": "code",
   "execution_count": 2,
   "id": "fcd67a4f",
   "metadata": {},
   "outputs": [
    {
     "name": "stdout",
     "output_type": "stream",
     "text": [
      "kernel python: C:\\ProgramData\\anaconda3\\jupyter\\python.exe\n"
     ]
    }
   ],
   "source": [
    "import plotly\n",
    "import sys\n",
    "print(\"kernel python:\", sys.executable)\n"
   ]
  },
  {
   "cell_type": "code",
   "execution_count": 3,
   "id": "ce28b9da",
   "metadata": {},
   "outputs": [
    {
     "name": "stdout",
     "output_type": "stream",
     "text": [
      "Defaulting to user installation because normal site-packages is not writeable\n",
      "Requirement already satisfied: jupyter_dash in c:\\users\\gursi\\appdata\\roaming\\python\\python311\\site-packages (0.4.2)\n",
      "Requirement already satisfied: dash in c:\\users\\gursi\\appdata\\roaming\\python\\python311\\site-packages (from jupyter_dash) (3.2.0)\n",
      "Requirement already satisfied: requests in c:\\programdata\\anaconda3\\jupyter\\lib\\site-packages (from jupyter_dash) (2.31.0)\n",
      "Requirement already satisfied: flask in c:\\programdata\\anaconda3\\jupyter\\lib\\site-packages (from jupyter_dash) (2.2.2)\n",
      "Requirement already satisfied: retrying in c:\\users\\gursi\\appdata\\roaming\\python\\python311\\site-packages (from jupyter_dash) (1.4.2)\n",
      "Requirement already satisfied: ipython in c:\\programdata\\anaconda3\\jupyter\\lib\\site-packages (from jupyter_dash) (8.15.0)\n",
      "Requirement already satisfied: ipykernel in c:\\programdata\\anaconda3\\jupyter\\lib\\site-packages (from jupyter_dash) (6.25.0)\n",
      "Requirement already satisfied: ansi2html in c:\\users\\gursi\\appdata\\roaming\\python\\python311\\site-packages (from jupyter_dash) (1.9.2)\n",
      "Requirement already satisfied: nest-asyncio in c:\\programdata\\anaconda3\\jupyter\\lib\\site-packages (from jupyter_dash) (1.5.6)\n",
      "Requirement already satisfied: Werkzeug<3.2 in c:\\programdata\\anaconda3\\jupyter\\lib\\site-packages (from dash->jupyter_dash) (2.2.3)\n",
      "Requirement already satisfied: plotly>=5.0.0 in c:\\programdata\\anaconda3\\jupyter\\lib\\site-packages (from dash->jupyter_dash) (5.9.0)\n",
      "Requirement already satisfied: importlib-metadata in c:\\programdata\\anaconda3\\jupyter\\lib\\site-packages (from dash->jupyter_dash) (6.0.0)\n",
      "Requirement already satisfied: typing-extensions>=4.1.1 in c:\\users\\gursi\\appdata\\roaming\\python\\python311\\site-packages (from dash->jupyter_dash) (4.15.0)\n",
      "Requirement already satisfied: setuptools in c:\\programdata\\anaconda3\\jupyter\\lib\\site-packages (from dash->jupyter_dash) (68.0.0)\n",
      "Requirement already satisfied: Jinja2>=3.0 in c:\\programdata\\anaconda3\\jupyter\\lib\\site-packages (from flask->jupyter_dash) (3.1.2)\n",
      "Requirement already satisfied: itsdangerous>=2.0 in c:\\programdata\\anaconda3\\jupyter\\lib\\site-packages (from flask->jupyter_dash) (2.0.1)\n",
      "Requirement already satisfied: click>=8.0 in c:\\programdata\\anaconda3\\jupyter\\lib\\site-packages (from flask->jupyter_dash) (8.0.4)\n",
      "Requirement already satisfied: comm>=0.1.1 in c:\\programdata\\anaconda3\\jupyter\\lib\\site-packages (from ipykernel->jupyter_dash) (0.1.2)\n",
      "Requirement already satisfied: debugpy>=1.6.5 in c:\\programdata\\anaconda3\\jupyter\\lib\\site-packages (from ipykernel->jupyter_dash) (1.6.7)\n",
      "Requirement already satisfied: jupyter-client>=6.1.12 in c:\\programdata\\anaconda3\\jupyter\\lib\\site-packages (from ipykernel->jupyter_dash) (7.4.9)\n",
      "Requirement already satisfied: jupyter-core!=5.0.*,>=4.12 in c:\\programdata\\anaconda3\\jupyter\\lib\\site-packages (from ipykernel->jupyter_dash) (5.3.0)\n",
      "Requirement already satisfied: matplotlib-inline>=0.1 in c:\\programdata\\anaconda3\\jupyter\\lib\\site-packages (from ipykernel->jupyter_dash) (0.1.6)\n",
      "Requirement already satisfied: packaging in c:\\programdata\\anaconda3\\jupyter\\lib\\site-packages (from ipykernel->jupyter_dash) (23.1)\n",
      "Requirement already satisfied: psutil in c:\\programdata\\anaconda3\\jupyter\\lib\\site-packages (from ipykernel->jupyter_dash) (5.9.0)\n",
      "Requirement already satisfied: pyzmq>=20 in c:\\programdata\\anaconda3\\jupyter\\lib\\site-packages (from ipykernel->jupyter_dash) (23.2.0)\n",
      "Requirement already satisfied: tornado>=6.1 in c:\\programdata\\anaconda3\\jupyter\\lib\\site-packages (from ipykernel->jupyter_dash) (6.3.2)\n",
      "Requirement already satisfied: traitlets>=5.4.0 in c:\\programdata\\anaconda3\\jupyter\\lib\\site-packages (from ipykernel->jupyter_dash) (5.7.1)\n",
      "Requirement already satisfied: backcall in c:\\programdata\\anaconda3\\jupyter\\lib\\site-packages (from ipython->jupyter_dash) (0.2.0)\n",
      "Requirement already satisfied: decorator in c:\\programdata\\anaconda3\\jupyter\\lib\\site-packages (from ipython->jupyter_dash) (5.1.1)\n",
      "Requirement already satisfied: jedi>=0.16 in c:\\programdata\\anaconda3\\jupyter\\lib\\site-packages (from ipython->jupyter_dash) (0.18.1)\n",
      "Requirement already satisfied: pickleshare in c:\\programdata\\anaconda3\\jupyter\\lib\\site-packages (from ipython->jupyter_dash) (0.7.5)\n",
      "Requirement already satisfied: prompt-toolkit!=3.0.37,<3.1.0,>=3.0.30 in c:\\programdata\\anaconda3\\jupyter\\lib\\site-packages (from ipython->jupyter_dash) (3.0.36)\n",
      "Requirement already satisfied: pygments>=2.4.0 in c:\\programdata\\anaconda3\\jupyter\\lib\\site-packages (from ipython->jupyter_dash) (2.15.1)\n",
      "Requirement already satisfied: stack-data in c:\\programdata\\anaconda3\\jupyter\\lib\\site-packages (from ipython->jupyter_dash) (0.2.0)\n",
      "Requirement already satisfied: colorama in c:\\programdata\\anaconda3\\jupyter\\lib\\site-packages (from ipython->jupyter_dash) (0.4.6)\n",
      "Requirement already satisfied: charset-normalizer<4,>=2 in c:\\programdata\\anaconda3\\jupyter\\lib\\site-packages (from requests->jupyter_dash) (2.0.4)\n",
      "Requirement already satisfied: idna<4,>=2.5 in c:\\programdata\\anaconda3\\jupyter\\lib\\site-packages (from requests->jupyter_dash) (3.4)\n",
      "Requirement already satisfied: urllib3<3,>=1.21.1 in c:\\programdata\\anaconda3\\jupyter\\lib\\site-packages (from requests->jupyter_dash) (1.26.16)\n",
      "Requirement already satisfied: certifi>=2017.4.17 in c:\\programdata\\anaconda3\\jupyter\\lib\\site-packages (from requests->jupyter_dash) (2023.7.22)\n",
      "Requirement already satisfied: parso<0.9.0,>=0.8.0 in c:\\programdata\\anaconda3\\jupyter\\lib\\site-packages (from jedi>=0.16->ipython->jupyter_dash) (0.8.3)\n",
      "Requirement already satisfied: MarkupSafe>=2.0 in c:\\programdata\\anaconda3\\jupyter\\lib\\site-packages (from Jinja2>=3.0->flask->jupyter_dash) (2.1.1)\n",
      "Requirement already satisfied: entrypoints in c:\\programdata\\anaconda3\\jupyter\\lib\\site-packages (from jupyter-client>=6.1.12->ipykernel->jupyter_dash) (0.4)\n",
      "Requirement already satisfied: python-dateutil>=2.8.2 in c:\\programdata\\anaconda3\\jupyter\\lib\\site-packages (from jupyter-client>=6.1.12->ipykernel->jupyter_dash) (2.8.2)\n",
      "Requirement already satisfied: platformdirs>=2.5 in c:\\programdata\\anaconda3\\jupyter\\lib\\site-packages (from jupyter-core!=5.0.*,>=4.12->ipykernel->jupyter_dash) (3.10.0)\n",
      "Requirement already satisfied: pywin32>=300 in c:\\programdata\\anaconda3\\jupyter\\lib\\site-packages (from jupyter-core!=5.0.*,>=4.12->ipykernel->jupyter_dash) (305.1)\n",
      "Requirement already satisfied: tenacity>=6.2.0 in c:\\programdata\\anaconda3\\jupyter\\lib\\site-packages (from plotly>=5.0.0->dash->jupyter_dash) (8.2.2)\n",
      "Requirement already satisfied: wcwidth in c:\\programdata\\anaconda3\\jupyter\\lib\\site-packages (from prompt-toolkit!=3.0.37,<3.1.0,>=3.0.30->ipython->jupyter_dash) (0.2.5)\n",
      "Requirement already satisfied: zipp>=0.5 in c:\\programdata\\anaconda3\\jupyter\\lib\\site-packages (from importlib-metadata->dash->jupyter_dash) (3.11.0)\n",
      "Requirement already satisfied: executing in c:\\programdata\\anaconda3\\jupyter\\lib\\site-packages (from stack-data->ipython->jupyter_dash) (0.8.3)\n",
      "Requirement already satisfied: asttokens in c:\\programdata\\anaconda3\\jupyter\\lib\\site-packages (from stack-data->ipython->jupyter_dash) (2.0.5)\n",
      "Requirement already satisfied: pure-eval in c:\\programdata\\anaconda3\\jupyter\\lib\\site-packages (from stack-data->ipython->jupyter_dash) (0.2.2)\n",
      "Requirement already satisfied: six>=1.5 in c:\\programdata\\anaconda3\\jupyter\\lib\\site-packages (from python-dateutil>=2.8.2->jupyter-client>=6.1.12->ipykernel->jupyter_dash) (1.16.0)\n",
      "Note: you may need to restart the kernel to use updated packages.\n"
     ]
    },
    {
     "name": "stderr",
     "output_type": "stream",
     "text": [
      "DEPRECATION: Loading egg at c:\\programdata\\anaconda3\\jupyter\\lib\\site-packages\\vboxapi-1.0-py3.11.egg is deprecated. pip 23.3 will enforce this behaviour change. A possible replacement is to use pip for package installation..\n"
     ]
    }
   ],
   "source": [
    "pip install jupyter_dash\n"
   ]
  },
  {
   "cell_type": "code",
   "execution_count": 4,
   "id": "c42062a2",
   "metadata": {},
   "outputs": [],
   "source": [
    "import jupyter_dash\n"
   ]
  },
  {
   "cell_type": "code",
   "execution_count": 16,
   "id": "f84f4e6a",
   "metadata": {},
   "outputs": [
    {
     "data": {
      "text/html": [
       "\n",
       "        <iframe\n",
       "            width=\"100%\"\n",
       "            height=\"650\"\n",
       "            src=\"http://127.0.0.1:8050/\"\n",
       "            frameborder=\"0\"\n",
       "            allowfullscreen\n",
       "            \n",
       "        ></iframe>\n",
       "        "
      ],
      "text/plain": [
       "<IPython.lib.display.IFrame at 0x233490d7190>"
      ]
     },
     "metadata": {},
     "output_type": "display_data"
    }
   ],
   "source": [
    "import dash\n",
    "from dash import html\n",
    "\n",
    "app = dash.Dash(__name__)\n",
    "\n",
    "app.layout = html.Div([\n",
    "    html.H1(\"Hello World!\"),\n",
    "    html.Div(\"My name is Gursimer Kaur\")  \n",
    "])\n",
    "\n",
    "if __name__ == '__main__':\n",
    "    app.run(debug=True)\n",
    "PAGE_SIZE = 25   \n"
   ]
  },
  {
   "cell_type": "code",
   "execution_count": 17,
   "id": "0ca13c8a",
   "metadata": {},
   "outputs": [
    {
     "name": "stdout",
     "output_type": "stream",
     "text": [
      "       country         pop continent  lifeExp     gdpPercap\n",
      "0  Afghanistan  31889923.0      Asia   43.828    974.580338\n",
      "1      Albania   3600523.0    Europe   76.423   5937.029526\n",
      "2      Algeria  33333216.0    Africa   72.301   6223.367465\n",
      "3       Angola  12420476.0    Africa   42.731   4797.231267\n",
      "4    Argentina  40301927.0  Americas   75.320  12779.379640\n",
      "Data rowsXcols: (142, 5)\n",
      "Dash app running on http://127.0.0.1:8050/\n"
     ]
    },
    {
     "data": {
      "application/javascript": [
       "window.open('http://127.0.0.1:8050/')"
      ],
      "text/plain": [
       "<IPython.core.display.Javascript object>"
      ]
     },
     "metadata": {},
     "output_type": "display_data"
    }
   ],
   "source": [
    "# We import the dash_table module to display the data inside a Dash DataTable.\n",
    "from dash import Dash, html, dash_table\n",
    "\n",
    "# We also import the pandas library to read the CSV sheet data.\n",
    "import pandas as pd\n",
    "\n",
    "# Incorporate data\n",
    "df = pd.read_csv('https://raw.githubusercontent.com/plotly/datasets/master/gapminder2007.csv')\n",
    "\n",
    "# Explore data\n",
    "print(df.head())\n",
    "print(\"Data rowsXcols:\", df.shape)\n",
    "\n",
    "# Initialize the app\n",
    "app = Dash()\n",
    "\n",
    "app.layout = [\n",
    "    html.Div(children='My First App with Data'),\n",
    "    dash_table.DataTable(data=df.to_dict('records'), page_size=25)\n",
    "   \n",
    "]\n",
    "\n",
    "# Run the app\n",
    "if __name__ == '__main__':\n",
    "    app.run(debug=True, jupyter_mode=\"tab\")\n"
   ]
  },
  {
   "cell_type": "code",
   "execution_count": 18,
   "id": "19b1782f",
   "metadata": {},
   "outputs": [
    {
     "name": "stdout",
     "output_type": "stream",
     "text": [
      "       country         pop continent  lifeExp     gdpPercap\n",
      "0  Afghanistan  31889923.0      Asia   43.828    974.580338\n",
      "1      Albania   3600523.0    Europe   76.423   5937.029526\n",
      "2      Algeria  33333216.0    Africa   72.301   6223.367465\n",
      "3       Angola  12420476.0    Africa   42.731   4797.231267\n",
      "4    Argentina  40301927.0  Americas   75.320  12779.379640\n",
      "Data rowsXcols: (142, 5)\n",
      "Dash app running on http://127.0.0.1:8050/\n"
     ]
    },
    {
     "data": {
      "application/javascript": [
       "window.open('http://127.0.0.1:8050/')"
      ],
      "text/plain": [
       "<IPython.core.display.Javascript object>"
      ]
     },
     "metadata": {},
     "output_type": "display_data"
    }
   ],
   "source": [
    "from dash import Dash, html, dash_table\n",
    "\n",
    "# We also import the pandas library to read the CSV sheet data.\n",
    "import pandas as pd\n",
    "\n",
    "# Incorporate data\n",
    "df = pd.read_csv('https://raw.githubusercontent.com/plotly/datasets/master/gapminder2007.csv')\n",
    "\n",
    "# Explore data\n",
    "print(df.head())\n",
    "print(\"Data rowsXcols:\", df.shape)\n",
    "\n",
    "# Initialize the app\n",
    "app = Dash()\n",
    "\n",
    "# App layout. \n",
    "# The 2nd item is a table with only 10 rows per page.\n",
    "app.layout = [\n",
    "    html.Div(children='My First App with Data'),\n",
    "    dash_table.DataTable(data=df.to_dict('records'), page_size=25)\n",
    "    #*** Question: Change page size and observe the change in widget controls\n",
    "    # such as, total number of pages.\n",
    "]\n",
    "\n",
    "# Run the app\n",
    "if __name__ == '__main__':\n",
    "    app.run(debug=True, jupyter_mode=\"tab\")"
   ]
  },
  {
   "cell_type": "code",
   "execution_count": 11,
   "id": "ce8b1ce4",
   "metadata": {},
   "outputs": [
    {
     "name": "stdout",
     "output_type": "stream",
     "text": [
      "       country         pop continent  lifeExp     gdpPercap\n",
      "0  Afghanistan  31889923.0      Asia   43.828    974.580338\n",
      "1      Albania   3600523.0    Europe   76.423   5937.029526\n",
      "2      Algeria  33333216.0    Africa   72.301   6223.367465\n",
      "3       Angola  12420476.0    Africa   42.731   4797.231267\n",
      "4    Argentina  40301927.0  Americas   75.320  12779.379640\n",
      "Data rowsXcols: (142, 5)\n",
      "Dash app running on http://127.0.0.1:8050/\n"
     ]
    },
    {
     "data": {
      "application/javascript": [
       "window.open('http://127.0.0.1:8050/')"
      ],
      "text/plain": [
       "<IPython.core.display.Javascript object>"
      ]
     },
     "metadata": {},
     "output_type": "display_data"
    }
   ],
   "source": [
    "from dash import Dash, html, dash_table, dcc\n",
    "\n",
    "# We also import the plotly.express library to build the interactive graphs.\n",
    "import plotly.express as px\n",
    "\n",
    "import pandas as pd\n",
    "\n",
    "\n",
    "df = pd.read_csv('https://raw.githubusercontent.com/plotly/datasets/master/gapminder2007.csv')\n",
    "\n",
    "# Explore data\n",
    "print(df.head())\n",
    "print(\"Data rowsXcols:\", df.shape)\n",
    "\n",
    "\n",
    "app = Dash()\n",
    "\n",
    "\n",
    "app.layout = [\n",
    "    html.Div(children='My First App with Data and a Graph'),\n",
    "    dash_table.DataTable(data=df.to_dict('records'), page_size=25),\n",
    "    dcc.Graph(figure=px.histogram(df, x='continent', y='lifeExp', histfunc='avg'))\n",
    "    \n",
    "]\n",
    "\n",
    "# Run the app\n",
    "if __name__ == '__main__':\n",
    "    app.run(debug=True, jupyter_mode=\"tab\")"
   ]
  },
  {
   "cell_type": "code",
   "execution_count": 14,
   "id": "870b88a3",
   "metadata": {},
   "outputs": [
    {
     "name": "stdout",
     "output_type": "stream",
     "text": [
      "Dash app running on http://127.0.0.1:8050/\n"
     ]
    },
    {
     "data": {
      "application/javascript": [
       "window.open('http://127.0.0.1:8050/')"
      ],
      "text/plain": [
       "<IPython.core.display.Javascript object>"
      ]
     },
     "metadata": {},
     "output_type": "display_data"
    }
   ],
   "source": [
    "from dash import Dash, html, dash_table, dcc, callback, Output, Input\n",
    "import pandas as pd\n",
    "import plotly.express as px\n",
    "\n",
    "# Incorporate data\n",
    "df = pd.read_csv('https://raw.githubusercontent.com/plotly/datasets/master/gapminder2007.csv')\n",
    "\n",
    "# Initialize the app\n",
    "app = Dash()\n",
    "\n",
    "# App layout\n",
    "app.layout = [\n",
    "    html.Div(children='My First App with Data, Graph, and Controls'),\n",
    "    html.Hr(),\n",
    "    dcc.RadioItems(options=['pop', 'lifeExp', 'gdpPercap'], value='lifeExp', id='controls-and-radio-item'),\n",
    "    dash_table.DataTable(data=df.to_dict('records'), page_size=6),\n",
    "    dcc.Graph(figure={}, id='controls-and-graph')\n",
    "   \n",
    "]\n",
    "\n",
    "@callback(\n",
    "    Output(component_id='controls-and-graph', component_property='figure'),\n",
    "    Input(component_id='controls-and-radio-item', component_property='value')\n",
    ")\n",
    "def update_graph(col_chosen):\n",
    "    fig = px.histogram(df, x='continent', y=col_chosen, histfunc='avg')\n",
    "    return fig\n",
    "\n",
    "# Run the app\n",
    "if __name__ == '__main__':\n",
    "    app.run(debug=True, jupyter_mode=\"tab\")"
   ]
  },
  {
   "cell_type": "code",
   "execution_count": null,
   "id": "98067e5c",
   "metadata": {},
   "outputs": [],
   "source": []
  }
 ],
 "metadata": {
  "kernelspec": {
   "display_name": "Python 3 (ipykernel)",
   "language": "python",
   "name": "python3"
  },
  "language_info": {
   "codemirror_mode": {
    "name": "ipython",
    "version": 3
   },
   "file_extension": ".py",
   "mimetype": "text/x-python",
   "name": "python",
   "nbconvert_exporter": "python",
   "pygments_lexer": "ipython3",
   "version": "3.11.5"
  }
 },
 "nbformat": 4,
 "nbformat_minor": 5
}
