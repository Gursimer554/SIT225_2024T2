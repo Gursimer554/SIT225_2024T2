{
 "cells": [
  {
   "cell_type": "code",
   "execution_count": 1,
   "metadata": {},
   "outputs": [
    {
     "name": "stdout",
     "output_type": "stream",
     "text": [
      "224052461 Gursimer_kaur\n"
     ]
    }
   ],
   "source": [
    "# Fill in student ID and name\n",
    "# \n",
    "student_id = \"224052461\"\n",
    "student_first_last_name = \"Gursimer_kaur\"\n",
    "print(student_id, student_first_last_name)"
   ]
  },
  {
   "cell_type": "code",
   "execution_count": 8,
   "metadata": {},
   "outputs": [
    {
     "name": "stdout",
     "output_type": "stream",
     "text": [
      "Firebase connected successfully!\n"
     ]
    }
   ],
   "source": [
    "\n",
    "import firebase_admin\n",
    "from firebase_admin import credentials, db\n",
    "\n",
    "\n",
    "databaseURL = \"https://week5-e1b95-default-rtdb.firebaseio.com/\"\n",
    "\n",
    "\n",
    "cred_obj = credentials.Certificate(\n",
    "   \"C:\\\\Users\\\\gursi\\\\Downloads\\\\SIT225_2024T2\\\\week_5\\\\week5-e1b95-firebase-adminsdk-fbsvc-a373c25129.json\"\n",
    ")\n",
    "\n",
    "\n",
    "default_app = firebase_admin.initialize_app(cred_obj, {\n",
    "    \"databaseURL\": databaseURL\n",
    "})\n",
    "\n",
    "print(\"Firebase connected successfully!\")\n"
   ]
  },
  {
   "cell_type": "code",
   "execution_count": 9,
   "metadata": {},
   "outputs": [],
   "source": [
    "from firebase_admin import db\n",
    "\n",
    "# A reference point is always needed to be set\n",
    "# before any operation is carried out on a database.\n",
    "# \n",
    "ref = db.reference(\"/\")\n",
    "\n",
    "# JSON format data (key/value pair)\n",
    "data = {  # Outer {} contains inner data structure\n",
    "\t\"Book1\":\n",
    "\t{\n",
    "\t\t\"Title\": \"The Fellowship of the Ring\",\n",
    "\t\t\"Author\": \"J.R.R. Tolkien\",\n",
    "\t\t\"Genre\": \"Epic fantasy\",\n",
    "\t\t\"Price\": 100\n",
    "\t},\n",
    "\t\"Book2\":\n",
    "\t{\n",
    "\t\t\"Title\": \"The Two Towers\",\n",
    "\t\t\"Author\": \"J.R.R. Tolkien\",\n",
    "\t\t\"Genre\": \"Epic fantasy\",\n",
    "\t\t\"Price\": 100\t\n",
    "\t},\n",
    "\t\"Book3\":\n",
    "\t{\n",
    "\t\t\"Title\": \"The Return of the King\",\n",
    "\t\t\"Author\": \"J.R.R. Tolkien\",\n",
    "\t\t\"Genre\": \"Epic fantasy\",\n",
    "\t\t\"Price\": 100\n",
    "\t},\n",
    "\t\"Book4\":\n",
    "\t{\n",
    "\t\t\"Title\": \"Brida\",\n",
    "\t\t\"Author\": \"Paulo Coelho\",\n",
    "\t\t\"Genre\": \"Fiction\",\n",
    "\t\t\"Price\": 100\n",
    "\t}\n",
    "}\n",
    "\n",
    "# JSON format data is set (overwritten) to the reference \n",
    "# point set at /, which is the root node.\n",
    "# \n",
    "ref.set(data)"
   ]
  },
  {
   "cell_type": "code",
   "execution_count": 10,
   "metadata": {},
   "outputs": [
    {
     "name": "stdout",
     "output_type": "stream",
     "text": [
      "{'Book1': {'Author': 'J.R.R. Tolkien', 'Genre': 'Epic fantasy', 'Price': 100, 'Title': 'The Fellowship of the Ring'}, 'Book2': {'Author': 'J.R.R. Tolkien', 'Genre': 'Epic fantasy', 'Price': 100, 'Title': 'The Two Towers'}, 'Book3': {'Author': 'J.R.R. Tolkien', 'Genre': 'Epic fantasy', 'Price': 100, 'Title': 'The Return of the King'}, 'Book4': {'Author': 'Paulo Coelho', 'Genre': 'Fiction', 'Price': 100, 'Title': 'Brida'}}\n",
      "<class 'dict'>\n",
      "Book1: {'Author': 'J.R.R. Tolkien', 'Genre': 'Epic fantasy', 'Price': 100, 'Title': 'The Fellowship of the Ring'}\n",
      "Book2: {'Author': 'J.R.R. Tolkien', 'Genre': 'Epic fantasy', 'Price': 100, 'Title': 'The Two Towers'}\n",
      "Book3: {'Author': 'J.R.R. Tolkien', 'Genre': 'Epic fantasy', 'Price': 100, 'Title': 'The Return of the King'}\n",
      "Book4: {'Author': 'Paulo Coelho', 'Genre': 'Fiction', 'Price': 100, 'Title': 'Brida'}\n",
      "{'Author': 'J.R.R. Tolkien', 'Genre': 'Epic fantasy', 'Price': 100, 'Title': 'The Fellowship of the Ring'}\n"
     ]
    }
   ],
   "source": [
    "ref = db.reference(\"/\")  # set ref point\n",
    "\n",
    "# query all data under the ref\n",
    "books = ref.get()  \n",
    "print(books)\n",
    "print(type(books))\n",
    "\n",
    "# print each item separately\n",
    "for key, value in books.items():\n",
    "    print(f\"{key}: {value}\")\n",
    "\n",
    "\n",
    "# Query /Book1\n",
    "ref = db.reference(\"/Book1\")\n",
    "books = ref.get()\n",
    "print(books)"
   ]
  },
  {
   "cell_type": "code",
   "execution_count": 11,
   "metadata": {},
   "outputs": [],
   "source": [
    "# Write using push() function\n",
    "# Note that a set() is called on top of push()\n",
    "# \n",
    "ref = db.reference(\"/\")\n",
    "ref.set({\n",
    "\t\"Books\":\n",
    "\t{\n",
    "\t\t\"Best_Sellers\": -1\n",
    "\t}\n",
    "})\n",
    "\n",
    "ref = db.reference(\"/Books/Best_Sellers\")\n",
    "\n",
    "for key, value in data.items():\n",
    "\tref.push().set(value)"
   ]
  },
  {
   "cell_type": "code",
   "execution_count": 12,
   "metadata": {},
   "outputs": [
    {
     "name": "stdout",
     "output_type": "stream",
     "text": [
      "{'-OaEZhkYT_I5COYQPyXb': {'Author': 'J.R.R. Tolkien', 'Genre': 'Epic fantasy', 'Price': 100, 'Title': 'The Fellowship of the Ring'}, '-OaEZi-j6WusKoG8fukO': {'Author': 'J.R.R. Tolkien', 'Genre': 'Epic fantasy', 'Price': 100, 'Title': 'The Two Towers'}, '-OaEZiEg1Rwn0MYrfDlJ': {'Author': 'J.R.R. Tolkien', 'Genre': 'Epic fantasy', 'Price': 100, 'Title': 'The Return of the King'}, '-OaEZiQq1VeYAj9JBGkQ': {'Author': 'Paulo Coelho', 'Genre': 'Fiction', 'Price': 100, 'Title': 'Brida'}}\n"
     ]
    }
   ],
   "source": [
    "# Update data\n",
    "# \n",
    "# Requirement: The price of the books by \n",
    "# J. R. R. Tolkien is reduced to 80 units to \n",
    "# offer a discount.\n",
    "# \n",
    "ref = db.reference(\"/Books/Best_Sellers/\")\n",
    "best_sellers = ref.get()\n",
    "print(best_sellers)\n",
    "for key, value in best_sellers.items():\n",
    "\tif(value[\"Author\"] == \"J.R.R. Tolkien\"):\n",
    "\t\tvalue[\"Price\"] = 90\n",
    "\t\tref.child(key).update({\"Price\":80})"
   ]
  },
  {
   "cell_type": "code",
   "execution_count": 13,
   "metadata": {},
   "outputs": [],
   "source": [
    "# Let's delete all best seller books \n",
    "# with J.R.R. Tolkien as the author.\n",
    "# \n",
    "ref = db.reference(\"/Books/Best_Sellers\")\n",
    "\n",
    "for key, value in best_sellers.items():\n",
    "\tif(value[\"Author\"] == \"J.R.R. Tolkien\"):\n",
    "\t\tref.child(key).set({})"
   ]
  },
  {
   "cell_type": "code",
   "execution_count": 14,
   "metadata": {},
   "outputs": [
    {
     "name": "stdout",
     "output_type": "stream",
     "text": [
      "{'-OaEZiQq1VeYAj9JBGkQ': {'Author': 'Paulo Coelho', 'Genre': 'Fiction', 'Price': 100, 'Title': 'Brida'}}\n",
      "<class 'dict'>\n"
     ]
    }
   ],
   "source": [
    "# Delete all best_seller data.\n",
    "# \n",
    "ref = db.reference(\"/Books/Best_Sellers/\")\n",
    "best_sellers = ref.get()\n",
    "print(best_sellers)\n",
    "print(type(best_sellers))"
   ]
  },
  {
   "cell_type": "code",
   "execution_count": 15,
   "metadata": {},
   "outputs": [],
   "source": [
    "ref = db.reference(\"/Books/Best_Sellers\")\n",
    "ref.set({})"
   ]
  },
  {
   "cell_type": "code",
   "execution_count": null,
   "metadata": {},
   "outputs": [],
   "source": []
  }
 ],
 "metadata": {
  "kernelspec": {
   "display_name": "Python 3 (ipykernel)",
   "language": "python",
   "name": "python3"
  },
  "language_info": {
   "codemirror_mode": {
    "name": "ipython",
    "version": 3
   },
   "file_extension": ".py",
   "mimetype": "text/x-python",
   "name": "python",
   "nbconvert_exporter": "python",
   "pygments_lexer": "ipython3",
   "version": "3.11.5"
  }
 },
 "nbformat": 4,
 "nbformat_minor": 4
}
